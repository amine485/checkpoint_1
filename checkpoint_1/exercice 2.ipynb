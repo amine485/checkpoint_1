{
 "cells": [
  {
   "cell_type": "code",
   "execution_count": 2,
   "id": "1d7ec59d",
   "metadata": {},
   "outputs": [
    {
     "name": "stdout",
     "output_type": "stream",
     "text": [
      "enter an integer : 5\n",
      "615 (5+55+555)\n"
     ]
    }
   ],
   "source": [
    "number =input('enter an integer : ')\n",
    "number1 = int(number)\n",
    "second_number =  int(number + number)\n",
    "third_number =int( number + number + number )\n",
    "full_number= second_number + third_number + number1 \n",
    "full_number_string = '(' +str(number1) + '+' + str(second_number) + '+' +str(third_number) + ')'\n",
    "print(str(full_number) + ' '+ full_number_string)"
   ]
  },
  {
   "cell_type": "code",
   "execution_count": null,
   "id": "f10a5d29",
   "metadata": {},
   "outputs": [],
   "source": []
  },
  {
   "cell_type": "code",
   "execution_count": null,
   "id": "c0992e03",
   "metadata": {},
   "outputs": [],
   "source": []
  },
  {
   "cell_type": "code",
   "execution_count": null,
   "id": "e23a7e99",
   "metadata": {},
   "outputs": [],
   "source": []
  }
 ],
 "metadata": {
  "kernelspec": {
   "display_name": "Python 3",
   "language": "python",
   "name": "python3"
  },
  "language_info": {
   "codemirror_mode": {
    "name": "ipython",
    "version": 3
   },
   "file_extension": ".py",
   "mimetype": "text/x-python",
   "name": "python",
   "nbconvert_exporter": "python",
   "pygments_lexer": "ipython3",
   "version": "3.8.8"
  }
 },
 "nbformat": 4,
 "nbformat_minor": 5
}
