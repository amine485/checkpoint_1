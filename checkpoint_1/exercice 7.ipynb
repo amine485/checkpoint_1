{
 "cells": [
  {
   "cell_type": "code",
   "execution_count": 1,
   "id": "0a69a243",
   "metadata": {},
   "outputs": [
    {
     "name": "stdout",
     "output_type": "stream",
     "text": [
      "enter a price : 200\n",
      "140.0\n"
     ]
    }
   ],
   "source": [
    "price = int(input('enter a price : '))\n",
    "if price >= 500 :\n",
    "  price = price * (1/2)\n",
    "  print(price)\n",
    "elif 200 <=price <500 :\n",
    "  price = price * (7/10)\n",
    "  print(price)\n",
    "elif price < 200 : \n",
    "  price = price * (9/10)\n",
    "  print(price)\n"
   ]
  },
  {
   "cell_type": "code",
   "execution_count": null,
   "id": "4e6b4792",
   "metadata": {},
   "outputs": [],
   "source": []
  }
 ],
 "metadata": {
  "kernelspec": {
   "display_name": "Python 3",
   "language": "python",
   "name": "python3"
  },
  "language_info": {
   "codemirror_mode": {
    "name": "ipython",
    "version": 3
   },
   "file_extension": ".py",
   "mimetype": "text/x-python",
   "name": "python",
   "nbconvert_exporter": "python",
   "pygments_lexer": "ipython3",
   "version": "3.8.8"
  }
 },
 "nbformat": 4,
 "nbformat_minor": 5
}
