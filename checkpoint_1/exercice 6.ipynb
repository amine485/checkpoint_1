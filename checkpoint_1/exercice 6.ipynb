{
 "cells": [
  {
   "cell_type": "code",
   "execution_count": null,
   "id": "3c3a3ced",
   "metadata": {},
   "outputs": [],
   "source": [
    "string = input('enter a string : ')\n",
    "word = \"\"\n",
    "for i in range (len(string)) :\n",
    "    if (i % 2 )== 0 :\n",
    "        word += string[i]\n",
    "print(word)"
   ]
  }
 ],
 "metadata": {
  "kernelspec": {
   "display_name": "Python 3",
   "language": "python",
   "name": "python3"
  },
  "language_info": {
   "codemirror_mode": {
    "name": "ipython",
    "version": 3
   },
   "file_extension": ".py",
   "mimetype": "text/x-python",
   "name": "python",
   "nbconvert_exporter": "python",
   "pygments_lexer": "ipython3",
   "version": "3.8.8"
  }
 },
 "nbformat": 4,
 "nbformat_minor": 5
}
