{
 "cells": [
  {
   "cell_type": "code",
   "execution_count": 9,
   "id": "897eab0d",
   "metadata": {},
   "outputs": [
    {
     "name": "stdout",
     "output_type": "stream",
     "text": [
      "enter a number :5\n",
      "120\n"
     ]
    }
   ],
   "source": [
    "i = int(input('enter a number :'))\n",
    "i2=i\n",
    "i1 =i\n",
    "cpt = 1\n",
    "if i2 == 0 :\n",
    "  i1 =1\n",
    "  i2 = 1\n",
    "  i = 1\n",
    "  while cpt < i2   :\n",
    "    cpt += 1\n",
    "    i = i *( i1-1 )\n",
    "    i1 = i1 -1\n",
    "else :\n",
    " while cpt < i2   :\n",
    "    cpt += 1\n",
    "    i = i *( i1-1 )\n",
    "    i1 = i1 -1\n",
    "print(i)\n"
   ]
  },
  {
   "cell_type": "code",
   "execution_count": 7,
   "id": "70cb018b",
   "metadata": {},
   "outputs": [
    {
     "data": {
      "text/plain": [
       "0"
      ]
     },
     "execution_count": 7,
     "metadata": {},
     "output_type": "execute_result"
    }
   ],
   "source": [
    "0\n"
   ]
  },
  {
   "cell_type": "code",
   "execution_count": 8,
   "id": "b780c0c7",
   "metadata": {},
   "outputs": [
    {
     "data": {
      "text/plain": [
       "2"
      ]
     },
     "execution_count": 8,
     "metadata": {},
     "output_type": "execute_result"
    }
   ],
   "source": [
    "2\n",
    "\n"
   ]
  },
  {
   "cell_type": "code",
   "execution_count": 6,
   "id": "11951404",
   "metadata": {},
   "outputs": [
    {
     "data": {
      "text/plain": [
       "2"
      ]
     },
     "execution_count": 6,
     "metadata": {},
     "output_type": "execute_result"
    }
   ],
   "source": [
    "2\n"
   ]
  },
  {
   "cell_type": "code",
   "execution_count": null,
   "id": "f42e9904",
   "metadata": {},
   "outputs": [],
   "source": [
    "2\n"
   ]
  }
 ],
 "metadata": {
  "kernelspec": {
   "display_name": "Python 3",
   "language": "python",
   "name": "python3"
  },
  "language_info": {
   "codemirror_mode": {
    "name": "ipython",
    "version": 3
   },
   "file_extension": ".py",
   "mimetype": "text/x-python",
   "name": "python",
   "nbconvert_exporter": "python",
   "pygments_lexer": "ipython3",
   "version": "3.8.8"
  }
 },
 "nbformat": 4,
 "nbformat_minor": 5
}
